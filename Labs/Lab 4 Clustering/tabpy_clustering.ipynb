{
 "cells": [
  {
   "cell_type": "code",
   "execution_count": null,
   "metadata": {
    "collapsed": true
   },
   "outputs": [],
   "source": [
    "import tabpy_client\n",
    "client = tabpy_client.Client('http://localhost:9004')\n",
    "### Your server is running on port:9004\n",
    "### Go to http://localhost:9004"
   ]
  },
  {
   "cell_type": "code",
   "execution_count": null,
   "metadata": {},
   "outputs": [],
   "source": [
    "### You are just defining a function which can perform DBScan clustering and takes in 2 features as inputs\n",
    "def clustering(x, y):\n",
    "    import numpy as np\n",
    "    from sklearn.cluster import DBSCAN\n",
    "    from sklearn.preprocessing import StandardScaler\n",
    "    X = np.column_stack([x, y])\n",
    "    X = StandardScaler().fit_transform(X)\n",
    "    db = DBSCAN(eps=1, min_samples=3).fit(X)\n",
    "    return db.labels_.tolist()\n",
    "\n",
    "### You are deploying the function clustering function which can be used in tableau\n",
    "client.deploy('clustering',clustering, 'Returns cluster Ids for each data point specified by the pairs in x and y')"
   ]
  },
  {
   "cell_type": "code",
   "execution_count": null,
   "metadata": {},
   "outputs": [],
   "source": [
    "### This cell shows us how to use the clustering function in Tableau\n",
    "x = [6.35, 6.40, 6.65, 8.60, 8.90, 9.00, 9.10]\n",
    "y = [1.95, 1.95, 2.05, 3.05, 3.05, 3.10, 3.15]\n",
    "\n",
    "### You need to write something similar like this in calculated field of tableau (NOT IN THIS CELL) \n",
    "### Replace X and Y with measures of a dataset in tableau (NOT IN THIS CELL) LOOK INTO SLIDES FOR CLARITY\n",
    "client.query('clustering', x, y)"
   ]
  }
 ],
 "metadata": {
  "kernelspec": {
   "display_name": "Python 3",
   "language": "python",
   "name": "python3"
  },
  "language_info": {
   "codemirror_mode": {
    "name": "ipython",
    "version": 3
   },
   "file_extension": ".py",
   "mimetype": "text/x-python",
   "name": "python",
   "nbconvert_exporter": "python",
   "pygments_lexer": "ipython3",
   "version": "3.6.2"
  }
 },
 "nbformat": 4,
 "nbformat_minor": 2
}
